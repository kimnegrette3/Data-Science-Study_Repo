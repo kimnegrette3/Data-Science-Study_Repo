{
 "cells": [
  {
   "cell_type": "markdown",
   "metadata": {},
   "source": [
    "# Numpy: The Basics\n",
    "Created by: Kimberly Negrette B. June 2023 <br>\n",
    "https://www.linkedin.com/in/kimberly-negrette/"
   ]
  },
  {
   "cell_type": "code",
   "execution_count": 32,
   "metadata": {},
   "outputs": [],
   "source": [
    "# !pip install numpy <- If installation needed\n",
    "import numpy as np"
   ]
  },
  {
   "cell_type": "markdown",
   "metadata": {},
   "source": [
    "## Creating arrays\n",
    "\n",
    "Arrays can be created in NumPy in several ways, such as from Python lists, using built-in functions like `zeros` and `ones`, using functions that generate random data, like `rand`, `uniform`, and `randn`, using `full` or `full_like` to create arrays of a specific size, and using `linspace` to create equally-spaced arrays."
   ]
  },
  {
   "cell_type": "code",
   "execution_count": 8,
   "metadata": {},
   "outputs": [
    {
     "name": "stdout",
     "output_type": "stream",
     "text": [
      "[1 2 3 4 5]\n"
     ]
    }
   ],
   "source": [
    "# Create a 1D array with 5 elements\n",
    "a = np.array([1, 2, 3, 4, 5])\n",
    "print(a)\n"
   ]
  },
  {
   "cell_type": "code",
   "execution_count": 9,
   "metadata": {},
   "outputs": [
    {
     "name": "stdout",
     "output_type": "stream",
     "text": [
      "[[1 2 3]\n",
      " [4 5 6]]\n"
     ]
    }
   ],
   "source": [
    "# Create a 2D array with 2 rows and 3 columns\n",
    "b = np.array([[1, 2, 3], [4, 5, 6]])\n",
    "print(b)"
   ]
  },
  {
   "cell_type": "code",
   "execution_count": 10,
   "metadata": {},
   "outputs": [
    {
     "name": "stdout",
     "output_type": "stream",
     "text": [
      "[[[ 1  2  3  4]\n",
      "  [ 5  6  7  8]\n",
      "  [ 9 10 11 12]]\n",
      "\n",
      " [[13 14 15 16]\n",
      "  [17 18 19 20]\n",
      "  [21 22 23 24]]]\n"
     ]
    }
   ],
   "source": [
    "# Create a 3D array with 2 matrices, each with 3 rows and 4 columns\n",
    "c = np.array([[[1, 2, 3, 4], [5, 6, 7, 8], [9, 10, 11, 12]],\n",
    "              [[13, 14, 15, 16], [17, 18, 19, 20], [21, 22, 23, 24]]])\n",
    "print(c)"
   ]
  },
  {
   "cell_type": "code",
   "execution_count": 11,
   "metadata": {},
   "outputs": [
    {
     "name": "stdout",
     "output_type": "stream",
     "text": [
      "[0. 0. 0. 0. 0.]\n"
     ]
    }
   ],
   "source": [
    "# Create a 1D array of zeros with 5 elements\n",
    "d = np.zeros(5)\n",
    "print(d)"
   ]
  },
  {
   "cell_type": "code",
   "execution_count": 12,
   "metadata": {},
   "outputs": [
    {
     "name": "stdout",
     "output_type": "stream",
     "text": [
      "[[1. 1. 1.]\n",
      " [1. 1. 1.]]\n"
     ]
    }
   ],
   "source": [
    "# Create a 2D array of ones with 2 rows and 3 columns\n",
    "e = np.ones((2, 3))\n",
    "print(e)"
   ]
  },
  {
   "cell_type": "code",
   "execution_count": 13,
   "metadata": {},
   "outputs": [
    {
     "name": "stdout",
     "output_type": "stream",
     "text": [
      "[0 1 2 3 4 5 6 7 8 9]\n"
     ]
    }
   ],
   "source": [
    "# Create a 1D array of values from 0 to 9\n",
    "f = np.arange(start=0, stop=10, step=1)\n",
    "print(f)"
   ]
  },
  {
   "cell_type": "code",
   "execution_count": 14,
   "metadata": {},
   "outputs": [
    {
     "name": "stdout",
     "output_type": "stream",
     "text": [
      "[0.7222401  0.76257573 0.98019551 0.555172   0.88130083]\n"
     ]
    }
   ],
   "source": [
    "# Create a 1D array of random values between 0 and 1\n",
    "g = np.random.rand(5)\n",
    "print(g)"
   ]
  },
  {
   "cell_type": "code",
   "execution_count": 15,
   "metadata": {},
   "outputs": [
    {
     "name": "stdout",
     "output_type": "stream",
     "text": [
      "[[ 0.3499092   0.11899448  0.2424713 ]\n",
      " [ 0.73243729  0.42878206 -0.57272142]]\n"
     ]
    }
   ],
   "source": [
    "# Create a 2D array of random values between -1 and 1 with 2 rows and 3 columns\n",
    "h = np.random.uniform(low=-1, high=1, size=(2, 3))\n",
    "print(h)"
   ]
  },
  {
   "cell_type": "code",
   "execution_count": 16,
   "metadata": {},
   "outputs": [
    {
     "name": "stdout",
     "output_type": "stream",
     "text": [
      "[ 1.97327884 -0.76035043  2.11508682  0.36488512  0.82097767]\n"
     ]
    }
   ],
   "source": [
    "# Create a 1D array of random values from a normal distribution with mean 0 and standard deviation 1\n",
    "i = np.random.randn(5)\n",
    "print(i)"
   ]
  },
  {
   "cell_type": "code",
   "execution_count": 17,
   "metadata": {},
   "outputs": [
    {
     "name": "stdout",
     "output_type": "stream",
     "text": [
      "[[1.59347272 5.04411536 3.69357485]\n",
      " [2.46554176 5.98257136 6.31026425]]\n"
     ]
    }
   ],
   "source": [
    "# Create a 2D array of random values from a normal distribution with mean 5 and standard deviation 2 with 2 rows and 3 columns\n",
    "j = np.random.normal(loc=5, scale=2, size=(2, 3))\n",
    "print(j)"
   ]
  },
  {
   "cell_type": "code",
   "execution_count": 18,
   "metadata": {},
   "outputs": [
    {
     "name": "stdout",
     "output_type": "stream",
     "text": [
      "[[5 5 5 5]\n",
      " [5 5 5 5]\n",
      " [5 5 5 5]]\n"
     ]
    }
   ],
   "source": [
    "# Create a 2D array of the value 5 with 3 rows and 4 columns\n",
    "k = np.full(shape=(3, 4), fill_value=5)\n",
    "print(k)"
   ]
  },
  {
   "cell_type": "code",
   "execution_count": 19,
   "metadata": {},
   "outputs": [
    {
     "name": "stdout",
     "output_type": "stream",
     "text": [
      "[0.         0.11111111 0.22222222 0.33333333 0.44444444 0.55555556\n",
      " 0.66666667 0.77777778 0.88888889 1.        ]\n"
     ]
    }
   ],
   "source": [
    "# Create a 1D array of 10 equally spaced values between 0 and 1\n",
    "l = np.linspace(start=0, stop=1, num=10)\n",
    "print(l)"
   ]
  },
  {
   "cell_type": "markdown",
   "metadata": {},
   "source": [
    "## Reshaping Arrays\n",
    "\n",
    "NumPy arrays can be reshaped to have a different number of dimensions or a different shape using the `reshape` method. This method returns a new array with the same data but a different shape."
   ]
  },
  {
   "cell_type": "code",
   "execution_count": 20,
   "metadata": {},
   "outputs": [
    {
     "name": "stdout",
     "output_type": "stream",
     "text": [
      "[[1 2 3]\n",
      " [4 5 6]]\n"
     ]
    }
   ],
   "source": [
    "# Create a 1D array with 6 elements\n",
    "m = np.array([1, 2, 3, 4, 5, 6])\n",
    "\n",
    "# Reshape the array into a 2D array with 2 rows and 3 columns\n",
    "n = m.reshape((2, 3))\n",
    "\n",
    "print(n)"
   ]
  },
  {
   "cell_type": "code",
   "execution_count": 21,
   "metadata": {},
   "outputs": [
    {
     "name": "stdout",
     "output_type": "stream",
     "text": [
      "[[[ 1  2  3]\n",
      "  [ 4  5  6]]\n",
      "\n",
      " [[ 7  8  9]\n",
      "  [10 11 12]]]\n"
     ]
    }
   ],
   "source": [
    "# Create a 2D array with 2 rows and 6 columns\n",
    "o = np.array([[1, 2, 3, 4, 5, 6], [7, 8, 9, 10, 11, 12]])\n",
    "\n",
    "# Reshape the array into a 3D array with 2 layers, 2 rows, and 3 columns\n",
    "p = o.reshape((2, 2, 3))\n",
    "\n",
    "print(p)"
   ]
  },
  {
   "cell_type": "markdown",
   "metadata": {},
   "source": [
    "## Array operations and methods\n",
    "NumPy arrays can perform a wide range of mathematical and logical operations. It also has aggregations and statistical functions. Here are some of the most common operations and methods that can be performed on arrays:"
   ]
  },
  {
   "cell_type": "markdown",
   "metadata": {},
   "source": [
    "### Element-wise arithmetic operations\n",
    "These operations apply a mathematical operation to each element in the array. Some common element-wise arithmetic operations include addition (+), subtraction (-), multiplication (*), and division (/)."
   ]
  },
  {
   "cell_type": "code",
   "execution_count": 22,
   "metadata": {},
   "outputs": [
    {
     "name": "stdout",
     "output_type": "stream",
     "text": [
      "[5 7 9]\n"
     ]
    }
   ],
   "source": [
    "# Create two arrays\n",
    "a = np.array([1, 2, 3])\n",
    "b = np.array([4, 5, 6])\n",
    "\n",
    "# Add the arrays element-wise\n",
    "c = a + b\n",
    "\n",
    "print(c)"
   ]
  },
  {
   "cell_type": "markdown",
   "metadata": {},
   "source": [
    "### Matrix multiplication\n",
    "Matrix multiplication is a mathematical operation that combines two matrices to produce a new matrix. NumPy provides several functions for performing matrix multiplication, including dot and matmul."
   ]
  },
  {
   "cell_type": "code",
   "execution_count": 23,
   "metadata": {},
   "outputs": [
    {
     "name": "stdout",
     "output_type": "stream",
     "text": [
      "[[19 22]\n",
      " [43 50]]\n"
     ]
    }
   ],
   "source": [
    "# Create two matrices\n",
    "a = np.array([[1, 2], [3, 4]])\n",
    "b = np.array([[5, 6], [7, 8]])\n",
    "\n",
    "# Multiply the matrices using matmul\n",
    "c = np.matmul(a, b)\n",
    "\n",
    "print(c)"
   ]
  },
  {
   "cell_type": "markdown",
   "metadata": {},
   "source": [
    "### Comparison operations \n",
    "Comparison operations compare the elements of two arrays and return a new array of Boolean values indicating the result of the comparison. Some common comparison operations include greater than (>), less than (<), equal to (==), and not equal to (!=)."
   ]
  },
  {
   "cell_type": "code",
   "execution_count": 24,
   "metadata": {},
   "outputs": [
    {
     "name": "stdout",
     "output_type": "stream",
     "text": [
      "[False False  True]\n"
     ]
    }
   ],
   "source": [
    "# Create two arrays\n",
    "a = np.array([1, 2, 3])\n",
    "b = np.array([2, 2, 2])\n",
    "\n",
    "# Compare the arrays element-wise\n",
    "c = a > b\n",
    "\n",
    "print(c)"
   ]
  },
  {
   "cell_type": "markdown",
   "metadata": {},
   "source": [
    "### Logical operations\n",
    "Logical operations apply Boolean logic to two arrays and return a new array of Boolean values indicating the result of the logical operation. Some common logical operations include AND (&), OR (|), and NOT (~)."
   ]
  },
  {
   "cell_type": "code",
   "execution_count": 25,
   "metadata": {},
   "outputs": [
    {
     "name": "stdout",
     "output_type": "stream",
     "text": [
      "[False False  True]\n"
     ]
    }
   ],
   "source": [
    "# Create two arrays\n",
    "a = np.array([True, False, True])\n",
    "b = np.array([False, True, True])\n",
    "\n",
    "# Apply a logical operation to the arrays element-wise\n",
    "c = a & b\n",
    "\n",
    "print(c)"
   ]
  },
  {
   "cell_type": "markdown",
   "metadata": {},
   "source": [
    "### Aggregation and Statistical methods\n",
    "NumPy includes a wide range of aggregation and statistical functions for analyzing and manipulating data. Some common statistical functions include sum, minimum, maximum, mean, median, standard deviation, variance, and correlation."
   ]
  },
  {
   "cell_type": "code",
   "execution_count": 27,
   "metadata": {},
   "outputs": [
    {
     "name": "stdout",
     "output_type": "stream",
     "text": [
      "sum: 2.93\n",
      "max value: 0.97\n",
      "min value: 0.16\n",
      "mean: 0.59\n",
      "median: 0.43\n",
      "standard deviation: 0.32\n",
      "variance: 0.1\n"
     ]
    }
   ],
   "source": [
    "# Create an array of random values\n",
    "a = np.random.rand(5)\n",
    "\n",
    "# Compute the sum of the array\n",
    "print(f'sum: {(np.sum(a)).round(2)}')\n",
    "\n",
    "# Compute the maximum value in the array\n",
    "print(f'max value: {(np.max(a).round(2))}')\n",
    "\n",
    "# Compute the minimum value in the array\n",
    "print(f'min value: {(np.min(a).round(2))}')\n",
    "\n",
    "# Compute the mean of the array\n",
    "print(f'mean: {(np.mean(a).round(2))}')\n",
    "\n",
    "# Compute the median of the array\n",
    "print(f'median: {(np.median(a).round(2))}')\n",
    "\n",
    "# Compute the standard deviation of the array\n",
    "print(f'standard deviation: {(np.std(a).round(2))}')\n",
    "\n",
    "# Compute the variance of the array\n",
    "print(f'variance: {(np.var(a).round(2))}')"
   ]
  },
  {
   "cell_type": "code",
   "execution_count": 28,
   "metadata": {},
   "outputs": [
    {
     "name": "stdout",
     "output_type": "stream",
     "text": [
      "[[1. 1.]\n",
      " [1. 1.]]\n"
     ]
    }
   ],
   "source": [
    "# Create a 2D array\n",
    "f = np.array([[1, 2, 3], [4, 5, 6]])\n",
    "\n",
    "# Compute the correlation between the two rows\n",
    "g = np.corrcoef(f[0], f[1])\n",
    "print(g)"
   ]
  },
  {
   "cell_type": "markdown",
   "metadata": {},
   "source": [
    "### Array manipulation functions\n",
    "NumPy includes several functions for manipulating arrays. Some common array manipulation functions include concatenate, vertical and horizontal stack,"
   ]
  },
  {
   "cell_type": "code",
   "execution_count": 29,
   "metadata": {},
   "outputs": [
    {
     "name": "stdout",
     "output_type": "stream",
     "text": [
      "Concatenated arrays:\n",
      " [1 2 3 4 5 6]\n",
      "Vertically stacked:\n",
      " [[1 2 3]\n",
      " [4 5 6]]\n",
      "Horizontally stacked:\n",
      " [1 2 3 4 5 6]\n"
     ]
    }
   ],
   "source": [
    "# Create two arrays\n",
    "a = np.array([1, 2, 3])\n",
    "b = np.array([4, 5, 6])\n",
    "\n",
    "# Concatenate the arrays\n",
    "c = np.concatenate((a, b))\n",
    "print(f'Concatenated arrays:\\n {c}')\n",
    "\n",
    "# Stack the arrays vertically\n",
    "d = np.vstack((a, b))\n",
    "print(f'Vertically stacked:\\n {d}')\n",
    "\n",
    "# Stack the arrays horizontally\n",
    "e = np.hstack((a, b))\n",
    "print(f'Horizontally stacked:\\n {e}')\n"
   ]
  },
  {
   "cell_type": "markdown",
   "metadata": {},
   "source": [
    "### Masks\n",
    "\n",
    "A mask is a Boolean array that is used to filter an array based on certain conditions. In NumPy, masks are often used to extract or modify specific elements of an array based on their values."
   ]
  },
  {
   "cell_type": "code",
   "execution_count": 30,
   "metadata": {},
   "outputs": [
    {
     "name": "stdout",
     "output_type": "stream",
     "text": [
      "[5 6 7 8 9]\n"
     ]
    }
   ],
   "source": [
    "# Create an array\n",
    "a = np.array([1, 2, 3, 4, 5, 6, 7, 8, 9])\n",
    "\n",
    "# Create a mask\n",
    "mask = a >= 5\n",
    "\n",
    "# Apply the mask to the array\n",
    "b = a[mask]\n",
    "\n",
    "print(b)"
   ]
  },
  {
   "cell_type": "markdown",
   "metadata": {},
   "source": [
    "Masks can also be used to modify specific elements of an array based on their values. Here is an example of using a mask to set the elements of an array that are less than 5 to 0:"
   ]
  },
  {
   "cell_type": "code",
   "execution_count": 31,
   "metadata": {},
   "outputs": [
    {
     "name": "stdout",
     "output_type": "stream",
     "text": [
      "[0 0 0 0 5 6 7 8 9]\n"
     ]
    }
   ],
   "source": [
    "# Create an array\n",
    "a = np.array([1, 2, 3, 4, 5, 6, 7, 8, 9])\n",
    "\n",
    "# Create a mask\n",
    "mask = a < 5\n",
    "\n",
    "# Set the elements of the array that satisfy the condition to 0\n",
    "a[mask] = 0\n",
    "\n",
    "print(a)"
   ]
  },
  {
   "cell_type": "markdown",
   "metadata": {},
   "source": [
    "#### Hope this helps! \n",
    "Created by: Kimberly Negrette B. June 2023 \n",
    "Linkedin: www.linkedin.com/in/kimberly-negrette/"
   ]
  }
 ],
 "metadata": {
  "kernelspec": {
   "display_name": "Python 3 (ipykernel)",
   "language": "python",
   "name": "python3"
  },
  "language_info": {
   "codemirror_mode": {
    "name": "ipython",
    "version": 3
   },
   "file_extension": ".py",
   "mimetype": "text/x-python",
   "name": "python",
   "nbconvert_exporter": "python",
   "pygments_lexer": "ipython3",
   "version": "3.10.11"
  }
 },
 "nbformat": 4,
 "nbformat_minor": 2
}
